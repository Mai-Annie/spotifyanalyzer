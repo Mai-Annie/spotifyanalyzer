{
 "cells": [
  {
   "cell_type": "markdown",
   "id": "95e859c6",
   "metadata": {},
   "source": [
    "# SpotifyAnalyzer - Data exploration\n",
    "## Phase 1: Initial Data Exploration with Sample DAta"
   ]
  }
 ],
 "metadata": {
  "language_info": {
   "name": "python"
  }
 },
 "nbformat": 4,
 "nbformat_minor": 5
}
