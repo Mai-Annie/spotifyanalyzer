{
 "cells": [
  {
   "cell_type": "markdown",
   "id": "95e859c6",
   "metadata": {},
   "source": [
    "# SpotifyAnalyzer - Data exploration\n",
    "## Phase 1: Initial Data Exploration with Sample Data"
   ]
  },
  {
   "cell_type": "code",
   "execution_count": 2,
   "id": "8598dd8e",
   "metadata": {},
   "outputs": [],
   "source": [
    "import pandas as pd\n",
    "import numpy as np\n",
    "import matplotlib.pyplot as plt\n",
    "import seaborn as sns\n",
    "\n",
    "#Configure plotting\n",
    "plt.style.use('seaborn-v0_8')\n",
    "sns.set_palette('viridis')\n",
    "%matplotlib inline\n",
    "\n",
    "#Add path to find modules\n",
    "import os\n",
    "import sys\n",
    "from pathlib import Path\n",
    "sys.path.append(str(Path.cwd().parent))\n",
    "sys.path.append(os.path.abspath(os.path.join('..', '..')))"
   ]
  },
  {
   "cell_type": "code",
   "execution_count": 3,
   "id": "adf28096",
   "metadata": {},
   "outputs": [
    {
     "name": "stdout",
     "output_type": "stream",
     "text": [
      "Successfully loaded existing sample data. ✅\n"
     ]
    }
   ],
   "source": [
    "#Import data loader\n",
    "from src.data_loader import load_sample_data\n",
    "\n",
    "#Load data\n",
    "personal_df, global_df = load_sample_data()\n"
   ]
  },
  {
   "cell_type": "code",
   "execution_count": 4,
   "id": "81c4b6ac",
   "metadata": {},
   "outputs": [
    {
     "name": "stdout",
     "output_type": "stream",
     "text": [
      "-- PERSONAL DATA INFO --\n",
      "<class 'pandas.core.frame.DataFrame'>\n",
      "RangeIndex: 500 entries, 0 to 499\n",
      "Data columns (total 14 columns):\n",
      " #   Column            Non-Null Count  Dtype  \n",
      "---  ------            --------------  -----  \n",
      " 0   track_id          500 non-null    object \n",
      " 1   energy            500 non-null    float64\n",
      " 2   danceability      500 non-null    float64\n",
      " 3   valence           500 non-null    float64\n",
      " 4   tempo             500 non-null    float64\n",
      " 5   acousticness      500 non-null    float64\n",
      " 6   instrumentalness  500 non-null    float64\n",
      " 7   liveness          500 non-null    float64\n",
      " 8   speechiness       500 non-null    float64\n",
      " 9   artist            500 non-null    object \n",
      " 10  album             500 non-null    object \n",
      " 11  genre             500 non-null    object \n",
      " 12  play_count        500 non-null    int64  \n",
      " 13  skip_count        500 non-null    int64  \n",
      "dtypes: float64(8), int64(2), object(4)\n",
      "memory usage: 54.8+ KB\n"
     ]
    }
   ],
   "source": [
    "#Examine data structure\n",
    "print(\"-- PERSONAL DATA INFO --\")\n",
    "personal_df.info()"
   ]
  },
  {
   "cell_type": "code",
   "execution_count": 5,
   "id": "a15cab5d",
   "metadata": {},
   "outputs": [
    {
     "name": "stdout",
     "output_type": "stream",
     "text": [
      "-- FIRST 5 PERSONAL TRACKS --\n"
     ]
    },
    {
     "data": {
      "text/html": [
       "<div>\n",
       "<style scoped>\n",
       "    .dataframe tbody tr th:only-of-type {\n",
       "        vertical-align: middle;\n",
       "    }\n",
       "\n",
       "    .dataframe tbody tr th {\n",
       "        vertical-align: top;\n",
       "    }\n",
       "\n",
       "    .dataframe thead th {\n",
       "        text-align: right;\n",
       "    }\n",
       "</style>\n",
       "<table border=\"1\" class=\"dataframe\">\n",
       "  <thead>\n",
       "    <tr style=\"text-align: right;\">\n",
       "      <th></th>\n",
       "      <th>track_id</th>\n",
       "      <th>energy</th>\n",
       "      <th>danceability</th>\n",
       "      <th>valence</th>\n",
       "      <th>tempo</th>\n",
       "      <th>acousticness</th>\n",
       "      <th>instrumentalness</th>\n",
       "      <th>liveness</th>\n",
       "      <th>speechiness</th>\n",
       "      <th>artist</th>\n",
       "      <th>album</th>\n",
       "      <th>genre</th>\n",
       "      <th>play_count</th>\n",
       "      <th>skip_count</th>\n",
       "    </tr>\n",
       "  </thead>\n",
       "  <tbody>\n",
       "    <tr>\n",
       "      <th>0</th>\n",
       "      <td>track_0</td>\n",
       "      <td>0.615635</td>\n",
       "      <td>0.216124</td>\n",
       "      <td>0.493168</td>\n",
       "      <td>117.267724</td>\n",
       "      <td>0.292967</td>\n",
       "      <td>0.100537</td>\n",
       "      <td>0.267492</td>\n",
       "      <td>0.132174</td>\n",
       "      <td>artist_0</td>\n",
       "      <td>album_0</td>\n",
       "      <td>Jazz</td>\n",
       "      <td>9</td>\n",
       "      <td>1</td>\n",
       "    </tr>\n",
       "    <tr>\n",
       "      <th>1</th>\n",
       "      <td>track_1</td>\n",
       "      <td>0.499997</td>\n",
       "      <td>0.814516</td>\n",
       "      <td>0.342396</td>\n",
       "      <td>114.877601</td>\n",
       "      <td>0.152799</td>\n",
       "      <td>0.010947</td>\n",
       "      <td>0.220870</td>\n",
       "      <td>0.428303</td>\n",
       "      <td>artist_1</td>\n",
       "      <td>album_1</td>\n",
       "      <td>Pop</td>\n",
       "      <td>6</td>\n",
       "      <td>5</td>\n",
       "    </tr>\n",
       "    <tr>\n",
       "      <th>2</th>\n",
       "      <td>track_2</td>\n",
       "      <td>0.618608</td>\n",
       "      <td>0.598247</td>\n",
       "      <td>0.171696</td>\n",
       "      <td>47.812855</td>\n",
       "      <td>0.035241</td>\n",
       "      <td>0.084901</td>\n",
       "      <td>0.509116</td>\n",
       "      <td>0.060930</td>\n",
       "      <td>artist_2</td>\n",
       "      <td>album_2</td>\n",
       "      <td>Hip-Hop</td>\n",
       "      <td>6</td>\n",
       "      <td>0</td>\n",
       "    </tr>\n",
       "    <tr>\n",
       "      <th>3</th>\n",
       "      <td>track_3</td>\n",
       "      <td>0.314110</td>\n",
       "      <td>0.481769</td>\n",
       "      <td>0.884773</td>\n",
       "      <td>76.299557</td>\n",
       "      <td>0.045433</td>\n",
       "      <td>0.199591</td>\n",
       "      <td>0.119168</td>\n",
       "      <td>0.128507</td>\n",
       "      <td>artist_3</td>\n",
       "      <td>album_3</td>\n",
       "      <td>Rock</td>\n",
       "      <td>12</td>\n",
       "      <td>3</td>\n",
       "    </tr>\n",
       "    <tr>\n",
       "      <th>4</th>\n",
       "      <td>track_4</td>\n",
       "      <td>0.902516</td>\n",
       "      <td>0.200515</td>\n",
       "      <td>0.271091</td>\n",
       "      <td>107.352178</td>\n",
       "      <td>0.585286</td>\n",
       "      <td>0.160940</td>\n",
       "      <td>0.409191</td>\n",
       "      <td>0.049553</td>\n",
       "      <td>artist_4</td>\n",
       "      <td>album_4</td>\n",
       "      <td>Hip-Hop</td>\n",
       "      <td>8</td>\n",
       "      <td>0</td>\n",
       "    </tr>\n",
       "  </tbody>\n",
       "</table>\n",
       "</div>"
      ],
      "text/plain": [
       "  track_id    energy  danceability   valence       tempo  acousticness  \\\n",
       "0  track_0  0.615635      0.216124  0.493168  117.267724      0.292967   \n",
       "1  track_1  0.499997      0.814516  0.342396  114.877601      0.152799   \n",
       "2  track_2  0.618608      0.598247  0.171696   47.812855      0.035241   \n",
       "3  track_3  0.314110      0.481769  0.884773   76.299557      0.045433   \n",
       "4  track_4  0.902516      0.200515  0.271091  107.352178      0.585286   \n",
       "\n",
       "   instrumentalness  liveness  speechiness    artist    album    genre  \\\n",
       "0          0.100537  0.267492     0.132174  artist_0  album_0     Jazz   \n",
       "1          0.010947  0.220870     0.428303  artist_1  album_1      Pop   \n",
       "2          0.084901  0.509116     0.060930  artist_2  album_2  Hip-Hop   \n",
       "3          0.199591  0.119168     0.128507  artist_3  album_3     Rock   \n",
       "4          0.160940  0.409191     0.049553  artist_4  album_4  Hip-Hop   \n",
       "\n",
       "   play_count  skip_count  \n",
       "0           9           1  \n",
       "1           6           5  \n",
       "2           6           0  \n",
       "3          12           3  \n",
       "4           8           0  "
      ]
     },
     "execution_count": 5,
     "metadata": {},
     "output_type": "execute_result"
    }
   ],
   "source": [
    "print(\"-- FIRST 5 PERSONAL TRACKS --\")\n",
    "personal_df.head(5)"
   ]
  },
  {
   "cell_type": "code",
   "execution_count": 6,
   "id": "a38ac946",
   "metadata": {},
   "outputs": [
    {
     "data": {
      "text/html": [
       "<div>\n",
       "<style scoped>\n",
       "    .dataframe tbody tr th:only-of-type {\n",
       "        vertical-align: middle;\n",
       "    }\n",
       "\n",
       "    .dataframe tbody tr th {\n",
       "        vertical-align: top;\n",
       "    }\n",
       "\n",
       "    .dataframe thead th {\n",
       "        text-align: right;\n",
       "    }\n",
       "</style>\n",
       "<table border=\"1\" class=\"dataframe\">\n",
       "  <thead>\n",
       "    <tr style=\"text-align: right;\">\n",
       "      <th></th>\n",
       "      <th>energy</th>\n",
       "      <th>danceability</th>\n",
       "      <th>valence</th>\n",
       "      <th>tempo</th>\n",
       "      <th>acousticness</th>\n",
       "      <th>instrumentalness</th>\n",
       "      <th>liveness</th>\n",
       "      <th>speechiness</th>\n",
       "    </tr>\n",
       "  </thead>\n",
       "  <tbody>\n",
       "    <tr>\n",
       "      <th>count</th>\n",
       "      <td>500.000000</td>\n",
       "      <td>500.000000</td>\n",
       "      <td>500.000000</td>\n",
       "      <td>500.000000</td>\n",
       "      <td>500.000000</td>\n",
       "      <td>500.000000</td>\n",
       "      <td>500.000000</td>\n",
       "      <td>500.000000</td>\n",
       "    </tr>\n",
       "    <tr>\n",
       "      <th>mean</th>\n",
       "      <td>0.508013</td>\n",
       "      <td>0.497935</td>\n",
       "      <td>0.510096</td>\n",
       "      <td>117.803334</td>\n",
       "      <td>0.235125</td>\n",
       "      <td>0.164524</td>\n",
       "      <td>0.204635</td>\n",
       "      <td>0.196003</td>\n",
       "    </tr>\n",
       "    <tr>\n",
       "      <th>std</th>\n",
       "      <td>0.213732</td>\n",
       "      <td>0.219936</td>\n",
       "      <td>0.223847</td>\n",
       "      <td>32.196103</td>\n",
       "      <td>0.186653</td>\n",
       "      <td>0.136221</td>\n",
       "      <td>0.161735</td>\n",
       "      <td>0.155469</td>\n",
       "    </tr>\n",
       "    <tr>\n",
       "      <th>min</th>\n",
       "      <td>0.029215</td>\n",
       "      <td>0.008561</td>\n",
       "      <td>0.032495</td>\n",
       "      <td>13.834268</td>\n",
       "      <td>0.000085</td>\n",
       "      <td>0.000039</td>\n",
       "      <td>0.001348</td>\n",
       "      <td>0.000683</td>\n",
       "    </tr>\n",
       "    <tr>\n",
       "      <th>25%</th>\n",
       "      <td>0.349198</td>\n",
       "      <td>0.335235</td>\n",
       "      <td>0.341512</td>\n",
       "      <td>97.447684</td>\n",
       "      <td>0.085931</td>\n",
       "      <td>0.060222</td>\n",
       "      <td>0.073517</td>\n",
       "      <td>0.062438</td>\n",
       "    </tr>\n",
       "    <tr>\n",
       "      <th>50%</th>\n",
       "      <td>0.526100</td>\n",
       "      <td>0.491623</td>\n",
       "      <td>0.519721</td>\n",
       "      <td>118.323157</td>\n",
       "      <td>0.191742</td>\n",
       "      <td>0.129455</td>\n",
       "      <td>0.168922</td>\n",
       "      <td>0.155941</td>\n",
       "    </tr>\n",
       "    <tr>\n",
       "      <th>75%</th>\n",
       "      <td>0.670489</td>\n",
       "      <td>0.658168</td>\n",
       "      <td>0.674457</td>\n",
       "      <td>138.457986</td>\n",
       "      <td>0.340884</td>\n",
       "      <td>0.236622</td>\n",
       "      <td>0.288199</td>\n",
       "      <td>0.301016</td>\n",
       "    </tr>\n",
       "    <tr>\n",
       "      <th>max</th>\n",
       "      <td>0.981233</td>\n",
       "      <td>0.969604</td>\n",
       "      <td>0.987478</td>\n",
       "      <td>212.696688</td>\n",
       "      <td>0.914162</td>\n",
       "      <td>0.696626</td>\n",
       "      <td>0.735451</td>\n",
       "      <td>0.754646</td>\n",
       "    </tr>\n",
       "  </tbody>\n",
       "</table>\n",
       "</div>"
      ],
      "text/plain": [
       "           energy  danceability     valence       tempo  acousticness  \\\n",
       "count  500.000000    500.000000  500.000000  500.000000    500.000000   \n",
       "mean     0.508013      0.497935    0.510096  117.803334      0.235125   \n",
       "std      0.213732      0.219936    0.223847   32.196103      0.186653   \n",
       "min      0.029215      0.008561    0.032495   13.834268      0.000085   \n",
       "25%      0.349198      0.335235    0.341512   97.447684      0.085931   \n",
       "50%      0.526100      0.491623    0.519721  118.323157      0.191742   \n",
       "75%      0.670489      0.658168    0.674457  138.457986      0.340884   \n",
       "max      0.981233      0.969604    0.987478  212.696688      0.914162   \n",
       "\n",
       "       instrumentalness    liveness  speechiness  \n",
       "count        500.000000  500.000000   500.000000  \n",
       "mean           0.164524    0.204635     0.196003  \n",
       "std            0.136221    0.161735     0.155469  \n",
       "min            0.000039    0.001348     0.000683  \n",
       "25%            0.060222    0.073517     0.062438  \n",
       "50%            0.129455    0.168922     0.155941  \n",
       "75%            0.236622    0.288199     0.301016  \n",
       "max            0.696626    0.735451     0.754646  "
      ]
     },
     "execution_count": 6,
     "metadata": {},
     "output_type": "execute_result"
    }
   ],
   "source": [
    "#Audio features statistics\n",
    "audio_features = ['energy', 'danceability', 'valence', 'tempo', 'acousticness', 'instrumentalness', 'liveness', 'speechiness']\n",
    "personal_df[audio_features].describe()"
   ]
  },
  {
   "cell_type": "code",
   "execution_count": 7,
   "id": "7fede385",
   "metadata": {},
   "outputs": [
    {
     "name": "stdout",
     "output_type": "stream",
     "text": [
      "-- PERSONAL DATA VS GLOBAL DATA --\n"
     ]
    },
    {
     "data": {
      "text/html": [
       "<div>\n",
       "<style scoped>\n",
       "    .dataframe tbody tr th:only-of-type {\n",
       "        vertical-align: middle;\n",
       "    }\n",
       "\n",
       "    .dataframe tbody tr th {\n",
       "        vertical-align: top;\n",
       "    }\n",
       "\n",
       "    .dataframe thead th {\n",
       "        text-align: right;\n",
       "    }\n",
       "</style>\n",
       "<table border=\"1\" class=\"dataframe\">\n",
       "  <thead>\n",
       "    <tr style=\"text-align: right;\">\n",
       "      <th></th>\n",
       "      <th>Personal</th>\n",
       "      <th>Global</th>\n",
       "      <th>Difference</th>\n",
       "    </tr>\n",
       "  </thead>\n",
       "  <tbody>\n",
       "    <tr>\n",
       "      <th>energy</th>\n",
       "      <td>0.508</td>\n",
       "      <td>0.522</td>\n",
       "      <td>-0.014</td>\n",
       "    </tr>\n",
       "    <tr>\n",
       "      <th>danceability</th>\n",
       "      <td>0.498</td>\n",
       "      <td>0.292</td>\n",
       "      <td>0.206</td>\n",
       "    </tr>\n",
       "    <tr>\n",
       "      <th>valence</th>\n",
       "      <td>0.510</td>\n",
       "      <td>0.502</td>\n",
       "      <td>0.008</td>\n",
       "    </tr>\n",
       "    <tr>\n",
       "      <th>tempo</th>\n",
       "      <td>117.803</td>\n",
       "      <td>119.244</td>\n",
       "      <td>-1.441</td>\n",
       "    </tr>\n",
       "    <tr>\n",
       "      <th>acousticness</th>\n",
       "      <td>0.235</td>\n",
       "      <td>0.715</td>\n",
       "      <td>-0.480</td>\n",
       "    </tr>\n",
       "    <tr>\n",
       "      <th>instrumentalness</th>\n",
       "      <td>0.165</td>\n",
       "      <td>0.721</td>\n",
       "      <td>-0.556</td>\n",
       "    </tr>\n",
       "    <tr>\n",
       "      <th>liveness</th>\n",
       "      <td>0.205</td>\n",
       "      <td>0.277</td>\n",
       "      <td>-0.072</td>\n",
       "    </tr>\n",
       "    <tr>\n",
       "      <th>speechiness</th>\n",
       "      <td>0.196</td>\n",
       "      <td>0.282</td>\n",
       "      <td>-0.086</td>\n",
       "    </tr>\n",
       "  </tbody>\n",
       "</table>\n",
       "</div>"
      ],
      "text/plain": [
       "                  Personal   Global  Difference\n",
       "energy               0.508    0.522      -0.014\n",
       "danceability         0.498    0.292       0.206\n",
       "valence              0.510    0.502       0.008\n",
       "tempo              117.803  119.244      -1.441\n",
       "acousticness         0.235    0.715      -0.480\n",
       "instrumentalness     0.165    0.721      -0.556\n",
       "liveness             0.205    0.277      -0.072\n",
       "speechiness          0.196    0.282      -0.086"
      ]
     },
     "execution_count": 7,
     "metadata": {},
     "output_type": "execute_result"
    }
   ],
   "source": [
    "#Compare average listening data\n",
    "personal_means = personal_df[audio_features].mean()\n",
    "global_means = global_df[audio_features].mean()\n",
    "\n",
    "#Create new dataframe to compare\n",
    "compare_df = pd.DataFrame({'Personal': personal_means, 'Global': global_means, 'Difference': personal_means - global_means})\n",
    "\n",
    "print(\"-- PERSONAL DATA VS GLOBAL DATA --\")\n",
    "compare_df.round(3)"
   ]
  },
  {
   "cell_type": "code",
   "execution_count": 13,
   "id": "df46980d",
   "metadata": {},
   "outputs": [
    {
     "name": "stdout",
     "output_type": "stream",
     "text": [
      "-- PERSONAL GENRE DISTRIBUTION --\n",
      "genre\n",
      "Pop           144\n",
      "Rock          111\n",
      "Hip-Hop        80\n",
      "Electronic     62\n",
      "Indie          52\n",
      "Jazz           51\n",
      "Name: count, dtype: int64\n",
      "-- GLOBAL GENRE DISTRIBUTION --\n",
      "genre\n",
      "Pop           386\n",
      "Rock          164\n",
      "Hip-Hop       144\n",
      "Indie         112\n",
      "Jazz          104\n",
      "Electronic     90\n",
      "Name: count, dtype: int64\n"
     ]
    }
   ],
   "source": [
    "#Compare genre preferences\n",
    "print(\"-- PERSONAL GENRE DISTRIBUTION --\")\n",
    "print(personal_df['genre'].value_counts())\n",
    "\n",
    "print(\"-- GLOBAL GENRE DISTRIBUTION --\")\n",
    "print(global_df['genre'].value_counts())"
   ]
  },
  {
   "cell_type": "code",
   "execution_count": 8,
   "id": "6ac5f5f2",
   "metadata": {},
   "outputs": [
    {
     "name": "stdout",
     "output_type": "stream",
     "text": [
      "-- MUSIC TASTE ANALYSIS --\n",
      "Your Music DNA:\n",
      "You listen to energy less than the global average by 0.01.\n",
      "You listen to danceability more than the global average by 0.21.\n",
      "You listen to valence more than the global average by 0.01.\n",
      "You listen to tempo less than the global average by 1.44.\n",
      "You listen to acousticness less than the global average by 0.48.\n",
      "You listen to instrumentalness less than the global average by 0.56.\n",
      "You listen to liveness less than the global average by 0.07.\n",
      "You listen to speechiness less than the global average by 0.09.\n"
     ]
    }
   ],
   "source": [
    "#Deeper dive into personal music taste\n",
    "print(\"-- MUSIC TASTE ANALYSIS --\")\n",
    "print(\"Your Music DNA:\")\n",
    "for feature in audio_features:\n",
    "    personal_average = personal_df[feature].mean()\n",
    "    global_average = global_df[feature].mean()\n",
    "    difference = personal_average - global_average\n",
    "\n",
    "    if difference > 0:\n",
    "        print(f\"You listen to {feature} more than the global average by {difference:.2f}.\")\n",
    "    elif difference < 0:\n",
    "        print(f\"You listen to {feature} less than the global average by {-difference:.2f}.\")"
   ]
  },
  {
   "cell_type": "code",
   "execution_count": 14,
   "id": "c52da35a",
   "metadata": {},
   "outputs": [
    {
     "name": "stdout",
     "output_type": "stream",
     "text": [
      "-- LISTENING HABITS ANALYSIS --\n",
      "Total tracks listened to: 500\n",
      "Number of Unique artists: 50\n",
      "Unique genres: 6\n",
      "Most played track: 16 plays\n",
      "Average plays per track: 6.1\n"
     ]
    }
   ],
   "source": [
    "#Analyze listening habits\n",
    "print(\"-- LISTENING HABITS ANALYSIS --\")\n",
    "print(f\"Total tracks listened to: {len(personal_df)}\")\n",
    "print(f\"Number of Unique artists: {personal_df['artist'].nunique()}\")\n",
    "print(f\"Unique genres: {personal_df['genre'].nunique()}\")\n",
    "print(f\"Most played track: {personal_df['play_count'].max()} plays\")\n",
    "print(f\"Average plays per track: {personal_df['play_count'].mean():.1f}\")"
   ]
  },
  {
   "cell_type": "code",
   "execution_count": 9,
   "id": "e4d5046e",
   "metadata": {},
   "outputs": [
    {
     "name": "stdout",
     "output_type": "stream",
     "text": [
      "-- Your Genre Diversity --\n",
      "You explore 1.2% of genres, which is higher than the global average of 0.6%.\n"
     ]
    }
   ],
   "source": [
    "print(f\"-- Your Genre Diversity --\")\n",
    "genre_diversity = personal_df['genre'].nunique() / len(personal_df) * 100\n",
    "global_genre_diversity = global_df['genre'].nunique() / len(global_df) * 100\n",
    "if genre_diversity > global_genre_diversity:\n",
    "    print(f\"You explore {genre_diversity:.1f}% of genres, which is higher than the global average of {global_genre_diversity:.1f}%.\")\n",
    "else:\n",
    "    print(f\"You explore {genre_diversity:.1f}% of genres, which is lower than the global average of {global_genre_diversity:.1f}%.\")"
   ]
  },
  {
   "cell_type": "code",
   "execution_count": 24,
   "id": "393edd72",
   "metadata": {},
   "outputs": [
    {
     "data": {
      "image/png": "[encoded data removed]",
      "text/plain": [
       "<Figure size 1500x600 with 2 Axes>"
      ]
     },
     "metadata": {},
     "output_type": "display_data"
    }
   ],
   "source": [
    "# Simple comparison bar chart\n",
    "fig, (ax1, ax2) = plt.subplots(1, 2, figsize=(15, 6))\n",
    "\n",
    "# Audio features comparison\n",
    "compare_df.plot(kind='bar', ax=ax1, color=['skyblue', 'lightcoral'])\n",
    "ax1.set_title('Personal vs Global Audio Features')\n",
    "ax1.set_ylabel('Feature Value')\n",
    "ax1.legend(['Personal', 'Global'])\n",
    "ax1.tick_params(axis='x', rotation=45)\n",
    "\n",
    "# Genre comparison\n",
    "personal_genres = personal_df['genre'].value_counts()\n",
    "personal_genres.head(5).plot(kind='bar', ax=ax2, color='lightgreen')\n",
    "ax2.set_title('Your Top 5 Genres')\n",
    "ax2.set_ylabel('Number of Tracks')\n",
    "ax2.tick_params(axis='x', rotation=45)\n",
    "\n",
    "plt.tight_layout()\n",
    "plt.show()"
   ]
  },
  {
   "cell_type": "code",
   "execution_count": 25,
   "id": "070f63e1",
   "metadata": {},
   "outputs": [
    {
     "data": {
      "text/html": [
       "<div>\n",
       "<style scoped>\n",
       "    .dataframe tbody tr th:only-of-type {\n",
       "        vertical-align: middle;\n",
       "    }\n",
       "\n",
       "    .dataframe tbody tr th {\n",
       "        vertical-align: top;\n",
       "    }\n",
       "\n",
       "    .dataframe thead th {\n",
       "        text-align: right;\n",
       "    }\n",
       "</style>\n",
       "<table border=\"1\" class=\"dataframe\">\n",
       "  <thead>\n",
       "    <tr style=\"text-align: right;\">\n",
       "      <th></th>\n",
       "      <th>track_id</th>\n",
       "      <th>energy</th>\n",
       "      <th>danceability</th>\n",
       "      <th>valence</th>\n",
       "      <th>tempo</th>\n",
       "      <th>acousticness</th>\n",
       "      <th>instrumentalness</th>\n",
       "      <th>liveness</th>\n",
       "      <th>speechiness</th>\n",
       "      <th>artist</th>\n",
       "      <th>album</th>\n",
       "      <th>genre</th>\n",
       "      <th>play_count</th>\n",
       "      <th>skip_count</th>\n",
       "    </tr>\n",
       "  </thead>\n",
       "  <tbody>\n",
       "    <tr>\n",
       "      <th>0</th>\n",
       "      <td>track_0</td>\n",
       "      <td>0.615635</td>\n",
       "      <td>0.216124</td>\n",
       "      <td>0.493168</td>\n",
       "      <td>117.267724</td>\n",
       "      <td>0.292967</td>\n",
       "      <td>0.100537</td>\n",
       "      <td>0.267492</td>\n",
       "      <td>0.132174</td>\n",
       "      <td>artist_0</td>\n",
       "      <td>album_0</td>\n",
       "      <td>Jazz</td>\n",
       "      <td>9</td>\n",
       "      <td>1</td>\n",
       "    </tr>\n",
       "    <tr>\n",
       "      <th>1</th>\n",
       "      <td>track_1</td>\n",
       "      <td>0.499997</td>\n",
       "      <td>0.814516</td>\n",
       "      <td>0.342396</td>\n",
       "      <td>114.877601</td>\n",
       "      <td>0.152799</td>\n",
       "      <td>0.010947</td>\n",
       "      <td>0.220870</td>\n",
       "      <td>0.428303</td>\n",
       "      <td>artist_1</td>\n",
       "      <td>album_1</td>\n",
       "      <td>Pop</td>\n",
       "      <td>6</td>\n",
       "      <td>5</td>\n",
       "    </tr>\n",
       "    <tr>\n",
       "      <th>2</th>\n",
       "      <td>track_2</td>\n",
       "      <td>0.618608</td>\n",
       "      <td>0.598247</td>\n",
       "      <td>0.171696</td>\n",
       "      <td>47.812855</td>\n",
       "      <td>0.035241</td>\n",
       "      <td>0.084901</td>\n",
       "      <td>0.509116</td>\n",
       "      <td>0.060930</td>\n",
       "      <td>artist_2</td>\n",
       "      <td>album_2</td>\n",
       "      <td>Hip-Hop</td>\n",
       "      <td>6</td>\n",
       "      <td>0</td>\n",
       "    </tr>\n",
       "    <tr>\n",
       "      <th>3</th>\n",
       "      <td>track_3</td>\n",
       "      <td>0.314110</td>\n",
       "      <td>0.481769</td>\n",
       "      <td>0.884773</td>\n",
       "      <td>76.299557</td>\n",
       "      <td>0.045433</td>\n",
       "      <td>0.199591</td>\n",
       "      <td>0.119168</td>\n",
       "      <td>0.128507</td>\n",
       "      <td>artist_3</td>\n",
       "      <td>album_3</td>\n",
       "      <td>Rock</td>\n",
       "      <td>12</td>\n",
       "      <td>3</td>\n",
       "    </tr>\n",
       "    <tr>\n",
       "      <th>4</th>\n",
       "      <td>track_4</td>\n",
       "      <td>0.902516</td>\n",
       "      <td>0.200515</td>\n",
       "      <td>0.271091</td>\n",
       "      <td>107.352178</td>\n",
       "      <td>0.585286</td>\n",
       "      <td>0.160940</td>\n",
       "      <td>0.409191</td>\n",
       "      <td>0.049553</td>\n",
       "      <td>artist_4</td>\n",
       "      <td>album_4</td>\n",
       "      <td>Hip-Hop</td>\n",
       "      <td>8</td>\n",
       "      <td>0</td>\n",
       "    </tr>\n",
       "  </tbody>\n",
       "</table>\n",
       "</div>"
      ],
      "text/plain": [
       "  track_id    energy  danceability   valence       tempo  acousticness  \\\n",
       "0  track_0  0.615635      0.216124  0.493168  117.267724      0.292967   \n",
       "1  track_1  0.499997      0.814516  0.342396  114.877601      0.152799   \n",
       "2  track_2  0.618608      0.598247  0.171696   47.812855      0.035241   \n",
       "3  track_3  0.314110      0.481769  0.884773   76.299557      0.045433   \n",
       "4  track_4  0.902516      0.200515  0.271091  107.352178      0.585286   \n",
       "\n",
       "   instrumentalness  liveness  speechiness    artist    album    genre  \\\n",
       "0          0.100537  0.267492     0.132174  artist_0  album_0     Jazz   \n",
       "1          0.010947  0.220870     0.428303  artist_1  album_1      Pop   \n",
       "2          0.084901  0.509116     0.060930  artist_2  album_2  Hip-Hop   \n",
       "3          0.199591  0.119168     0.128507  artist_3  album_3     Rock   \n",
       "4          0.160940  0.409191     0.049553  artist_4  album_4  Hip-Hop   \n",
       "\n",
       "   play_count  skip_count  \n",
       "0           9           1  \n",
       "1           6           5  \n",
       "2           6           0  \n",
       "3          12           3  \n",
       "4           8           0  "
      ]
     },
     "execution_count": 25,
     "metadata": {},
     "output_type": "execute_result"
    }
   ],
   "source": [
    "personal_df.head()"
   ]
  },
  {
   "cell_type": "code",
   "execution_count": 11,
   "id": "d59f939b",
   "metadata": {},
   "outputs": [
    {
     "data": {
      "application/vnd.plotly.v1+json": {
       "config": {
        "plotlyServerURL": "https://plot.ly"
       },
       "data": [
        {
         "fill": "toself",
         "fillcolor": "rgba(255, 99, 132, 0.3)",
         "line": {
          "color": "rgba(255, 99, 132, 0.8)"
         },
         "name": "Your Music",
         "r": [
          0.5080133340122954,
          0.4979353893758491,
          0.5100958717289097,
          0.23512504844192011
         ],
         "theta": [
          "energy",
          "danceability",
          "valence",
          "acousticness"
         ],
         "type": "scatterpolar"
        },
        {
         "fill": "toself",
         "fillcolor": "rgba(54, 162, 235, 0.3)",
         "line": {
          "color": "rgba(54, 162, 235, 0.8)"
         },
         "name": "Global Music",
         "r": [
          0.5215771035631194,
          0.2916710341931887,
          0.501612766005104,
          0.7151971977589269
         ],
         "theta": [
          "energy",
          "danceability",
          "valence",
          "acousticness"
         ],
         "type": "scatterpolar"
        }
       ],
       "layout": {
        "polar": {
         "radialaxis": {
          "range": [
           0,
           1
          ],
          "visible": true
         }
        },
        "showlegend": true,
        "template": {
         "data": {
          "bar": [
           {
            "error_x": {
             "color": "#2a3f5f"
            },
            "error_y": {
             "color": "#2a3f5f"
            },
            "marker": {
             "line": {
              "color": "white",
              "width": 0.5
             },
             "pattern": {
              "fillmode": "overlay",
              "size": 10,
              "solidity": 0.2
             }
            },
            "type": "bar"
           }
          ],
          "barpolar": [
           {
            "marker": {
             "line": {
              "color": "white",
              "width": 0.5
             },
             "pattern": {
              "fillmode": "overlay",
              "size": 10,
              "solidity": 0.2
             }
            },
            "type": "barpolar"
           }
          ],
          "carpet": [
           {
            "aaxis": {
             "endlinecolor": "#2a3f5f",
             "gridcolor": "#C8D4E3",
             "linecolor": "#C8D4E3",
             "minorgridcolor": "#C8D4E3",
             "startlinecolor": "#2a3f5f"
            },
            "baxis": {
             "endlinecolor": "#2a3f5f",
             "gridcolor": "#C8D4E3",
             "linecolor": "#C8D4E3",
             "minorgridcolor": "#C8D4E3",
             "startlinecolor": "#2a3f5f"
            },
            "type": "carpet"
           }
          ],
          "choropleth": [
           {
            "colorbar": {
             "outlinewidth": 0,
             "ticks": ""
            },
            "type": "choropleth"
           }
          ],
          "contour": [
           {
            "colorbar": {
             "outlinewidth": 0,
             "ticks": ""
            },
            "colorscale": [
             [
              0,
              "#0d0887"
             ],
             [
              0.1111111111111111,
              "#46039f"
             ],
             [
              0.2222222222222222,
              "#7201a8"
             ],
             [
              0.3333333333333333,
              "#9c179e"
             ],
             [
              0.4444444444444444,
              "#bd3786"
             ],
             [
              0.5555555555555556,
              "#d8576b"
             ],
             [
              0.6666666666666666,
              "#ed7953"
             ],
             [
              0.7777777777777778,
              "#fb9f3a"
             ],
             [
              0.8888888888888888,
              "#fdca26"
             ],
             [
              1,
              "#f0f921"
             ]
            ],
            "type": "contour"
           }
          ],
          "contourcarpet": [
           {
            "colorbar": {
             "outlinewidth": 0,
             "ticks": ""
            },
            "type": "contourcarpet"
           }
          ],
          "heatmap": [
           {
            "colorbar": {
             "outlinewidth": 0,
             "ticks": ""
            },
            "colorscale": [
             [
              0,
              "#0d0887"
             ],
             [
              0.1111111111111111,
              "#46039f"
             ],
             [
              0.2222222222222222,
              "#7201a8"
             ],
             [
              0.3333333333333333,
              "#9c179e"
             ],
             [
              0.4444444444444444,
              "#bd3786"
             ],
             [
              0.5555555555555556,
              "#d8576b"
             ],
             [
              0.6666666666666666,
              "#ed7953"
             ],
             [
              0.7777777777777778,
              "#fb9f3a"
             ],
             [
              0.8888888888888888,
              "#fdca26"
             ],
             [
              1,
              "#f0f921"
             ]
            ],
            "type": "heatmap"
           }
          ],
          "histogram": [
           {
            "marker": {
             "pattern": {
              "fillmode": "overlay",
              "size": 10,
              "solidity": 0.2
             }
            },
            "type": "histogram"
           }
          ],
          "histogram2d": [
           {
            "colorbar": {
             "outlinewidth": 0,
             "ticks": ""
            },
            "colorscale": [
             [
              0,
              "#0d0887"
             ],
             [
              0.1111111111111111,
              "#46039f"
             ],
             [
              0.2222222222222222,
              "#7201a8"
             ],
             [
              0.3333333333333333,
              "#9c179e"
             ],
             [
              0.4444444444444444,
              "#bd3786"
             ],
             [
              0.5555555555555556,
              "#d8576b"
             ],
             [
              0.6666666666666666,
              "#ed7953"
             ],
             [
              0.7777777777777778,
              "#fb9f3a"
             ],
             [
              0.8888888888888888,
              "#fdca26"
             ],
             [
              1,
              "#f0f921"
             ]
            ],
            "type": "histogram2d"
           }
          ],
          "histogram2dcontour": [
           {
            "colorbar": {
             "outlinewidth": 0,
             "ticks": ""
            },
            "colorscale": [
             [
              0,
              "#0d0887"
             ],
             [
              0.1111111111111111,
              "#46039f"
             ],
             [
              0.2222222222222222,
              "#7201a8"
             ],
             [
              0.3333333333333333,
              "#9c179e"
             ],
             [
              0.4444444444444444,
              "#bd3786"
             ],
             [
              0.5555555555555556,
              "#d8576b"
             ],
             [
              0.6666666666666666,
              "#ed7953"
             ],
             [
              0.7777777777777778,
              "#fb9f3a"
             ],
             [
              0.8888888888888888,
              "#fdca26"
             ],
             [
              1,
              "#f0f921"
             ]
            ],
            "type": "histogram2dcontour"
           }
          ],
          "mesh3d": [
           {
            "colorbar": {
             "outlinewidth": 0,
             "ticks": ""
            },
            "type": "mesh3d"
           }
          ],
          "parcoords": [
           {
            "line": {
             "colorbar": {
              "outlinewidth": 0,
              "ticks": ""
             }
            },
            "type": "parcoords"
           }
          ],
          "pie": [
           {
            "automargin": true,
            "type": "pie"
           }
          ],
          "scatter": [
           {
            "fillpattern": {
             "fillmode": "overlay",
             "size": 10,
             "solidity": 0.2
            },
            "type": "scatter"
           }
          ],
          "scatter3d": [
           {
            "line": {
             "colorbar": {
              "outlinewidth": 0,
              "ticks": ""
             }
            },
            "marker": {
             "colorbar": {
              "outlinewidth": 0,
              "ticks": ""
             }
            },
            "type": "scatter3d"
           }
          ],
          "scattercarpet": [
           {
            "marker": {
             "colorbar": {
              "outlinewidth": 0,
              "ticks": ""
             }
            },
            "type": "scattercarpet"
           }
          ],
          "scattergeo": [
           {
            "marker": {
             "colorbar": {
              "outlinewidth": 0,
              "ticks": ""
             }
            },
            "type": "scattergeo"
           }
          ],
          "scattergl": [
           {
            "marker": {
             "colorbar": {
              "outlinewidth": 0,
              "ticks": ""
             }
            },
            "type": "scattergl"
           }
          ],
          "scattermap": [
           {
            "marker": {
             "colorbar": {
              "outlinewidth": 0,
              "ticks": ""
             }
            },
            "type": "scattermap"
           }
          ],
          "scattermapbox": [
           {
            "marker": {
             "colorbar": {
              "outlinewidth": 0,
              "ticks": ""
             }
            },
            "type": "scattermapbox"
           }
          ],
          "scatterpolar": [
           {
            "marker": {
             "colorbar": {
              "outlinewidth": 0,
              "ticks": ""
             }
            },
            "type": "scatterpolar"
           }
          ],
          "scatterpolargl": [
           {
            "marker": {
             "colorbar": {
              "outlinewidth": 0,
              "ticks": ""
             }
            },
            "type": "scatterpolargl"
           }
          ],
          "scatterternary": [
           {
            "marker": {
             "colorbar": {
              "outlinewidth": 0,
              "ticks": ""
             }
            },
            "type": "scatterternary"
           }
          ],
          "surface": [
           {
            "colorbar": {
             "outlinewidth": 0,
             "ticks": ""
            },
            "colorscale": [
             [
              0,
              "#0d0887"
             ],
             [
              0.1111111111111111,
              "#46039f"
             ],
             [
              0.2222222222222222,
              "#7201a8"
             ],
             [
              0.3333333333333333,
              "#9c179e"
             ],
             [
              0.4444444444444444,
              "#bd3786"
             ],
             [
              0.5555555555555556,
              "#d8576b"
             ],
             [
              0.6666666666666666,
              "#ed7953"
             ],
             [
              0.7777777777777778,
              "#fb9f3a"
             ],
             [
              0.8888888888888888,
              "#fdca26"
             ],
             [
              1,
              "#f0f921"
             ]
            ],
            "type": "surface"
           }
          ],
          "table": [
           {
            "cells": {
             "fill": {
              "color": "#EBF0F8"
             },
             "line": {
              "color": "white"
             }
            },
            "header": {
             "fill": {
              "color": "#C8D4E3"
             },
             "line": {
              "color": "white"
             }
            },
            "type": "table"
           }
          ]
         },
         "layout": {
          "annotationdefaults": {
           "arrowcolor": "#2a3f5f",
           "arrowhead": 0,
           "arrowwidth": 1
          },
          "autotypenumbers": "strict",
          "coloraxis": {
           "colorbar": {
            "outlinewidth": 0,
            "ticks": ""
           }
          },
          "colorscale": {
           "diverging": [
            [
             0,
             "#8e0152"
            ],
            [
             0.1,
             "#c51b7d"
            ],
            [
             0.2,
             "#de77ae"
            ],
            [
             0.3,
             "#f1b6da"
            ],
            [
             0.4,
             "#fde0ef"
            ],
            [
             0.5,
             "#f7f7f7"
            ],
            [
             0.6,
             "#e6f5d0"
            ],
            [
             0.7,
             "#b8e186"
            ],
            [
             0.8,
             "#7fbc41"
            ],
            [
             0.9,
             "#4d9221"
            ],
            [
             1,
             "#276419"
            ]
           ],
           "sequential": [
            [
             0,
             "#0d0887"
            ],
            [
             0.1111111111111111,
             "#46039f"
            ],
            [
             0.2222222222222222,
             "#7201a8"
            ],
            [
             0.3333333333333333,
             "#9c179e"
            ],
            [
             0.4444444444444444,
             "#bd3786"
            ],
            [
             0.5555555555555556,
             "#d8576b"
            ],
            [
             0.6666666666666666,
             "#ed7953"
            ],
            [
             0.7777777777777778,
             "#fb9f3a"
            ],
            [
             0.8888888888888888,
             "#fdca26"
            ],
            [
             1,
             "#f0f921"
            ]
           ],
           "sequentialminus": [
            [
             0,
             "#0d0887"
            ],
            [
             0.1111111111111111,
             "#46039f"
            ],
            [
             0.2222222222222222,
             "#7201a8"
            ],
            [
             0.3333333333333333,
             "#9c179e"
            ],
            [
             0.4444444444444444,
             "#bd3786"
            ],
            [
             0.5555555555555556,
             "#d8576b"
            ],
            [
             0.6666666666666666,
             "#ed7953"
            ],
            [
             0.7777777777777778,
             "#fb9f3a"
            ],
            [
             0.8888888888888888,
             "#fdca26"
            ],
            [
             1,
             "#f0f921"
            ]
           ]
          },
          "colorway": [
           "#636efa",
           "#EF553B",
           "#00cc96",
           "#ab63fa",
           "#FFA15A",
           "#19d3f3",
           "#FF6692",
           "#B6E880",
           "#FF97FF",
           "#FECB52"
          ],
          "font": {
           "color": "#2a3f5f"
          },
          "geo": {
           "bgcolor": "white",
           "lakecolor": "white",
           "landcolor": "white",
           "showlakes": true,
           "showland": true,
           "subunitcolor": "#C8D4E3"
          },
          "hoverlabel": {
           "align": "left"
          },
          "hovermode": "closest",
          "mapbox": {
           "style": "light"
          },
          "paper_bgcolor": "white",
          "plot_bgcolor": "white",
          "polar": {
           "angularaxis": {
            "gridcolor": "#EBF0F8",
            "linecolor": "#EBF0F8",
            "ticks": ""
           },
           "bgcolor": "white",
           "radialaxis": {
            "gridcolor": "#EBF0F8",
            "linecolor": "#EBF0F8",
            "ticks": ""
           }
          },
          "scene": {
           "xaxis": {
            "backgroundcolor": "white",
            "gridcolor": "#DFE8F3",
            "gridwidth": 2,
            "linecolor": "#EBF0F8",
            "showbackground": true,
            "ticks": "",
            "zerolinecolor": "#EBF0F8"
           },
           "yaxis": {
            "backgroundcolor": "white",
            "gridcolor": "#DFE8F3",
            "gridwidth": 2,
            "linecolor": "#EBF0F8",
            "showbackground": true,
            "ticks": "",
            "zerolinecolor": "#EBF0F8"
           },
           "zaxis": {
            "backgroundcolor": "white",
            "gridcolor": "#DFE8F3",
            "gridwidth": 2,
            "linecolor": "#EBF0F8",
            "showbackground": true,
            "ticks": "",
            "zerolinecolor": "#EBF0F8"
           }
          },
          "shapedefaults": {
           "line": {
            "color": "#2a3f5f"
           }
          },
          "ternary": {
           "aaxis": {
            "gridcolor": "#DFE8F3",
            "linecolor": "#A2B1C6",
            "ticks": ""
           },
           "baxis": {
            "gridcolor": "#DFE8F3",
            "linecolor": "#A2B1C6",
            "ticks": ""
           },
           "bgcolor": "white",
           "caxis": {
            "gridcolor": "#DFE8F3",
            "linecolor": "#A2B1C6",
            "ticks": ""
           }
          },
          "title": {
           "x": 0.05
          },
          "xaxis": {
           "automargin": true,
           "gridcolor": "#EBF0F8",
           "linecolor": "#EBF0F8",
           "ticks": "",
           "title": {
            "standoff": 15
           },
           "zerolinecolor": "#EBF0F8",
           "zerolinewidth": 2
          },
          "yaxis": {
           "automargin": true,
           "gridcolor": "#EBF0F8",
           "linecolor": "#EBF0F8",
           "ticks": "",
           "title": {
            "standoff": 15
           },
           "zerolinecolor": "#EBF0F8",
           "zerolinewidth": 2
          }
         }
        },
        "title": {
         "text": "Your Music vs Global Music"
        }
       }
      }
     },
     "metadata": {},
     "output_type": "display_data"
    }
   ],
   "source": [
    "import plotly.graph_objects as go\n",
    "features = ['energy', 'danceability', 'valence', 'acousticness']\n",
    "personal_values = [personal_df[feature].mean() for feature in features]\n",
    "global_values = [global_df[feature].mean() for feature in features]\n",
    "\n",
    "#Create radar chart\n",
    "fig = go.Figure()\n",
    "\n",
    "#add personal data\n",
    "fig.add_trace(go.Scatterpolar(\n",
    "    r = personal_values,\n",
    "    theta=features,\n",
    "    fill ='toself',\n",
    "    name='Your Music',\n",
    "    line_color='rgba(255, 99, 132, 0.8)',\n",
    "    fillcolor='rgba(255, 99, 132, 0.3)'\n",
    "))\n",
    "#add global data\n",
    "fig.add_trace(go.Scatterpolar(\n",
    "    r = global_values,\n",
    "    theta=features,\n",
    "    fill ='toself',\n",
    "    name='Global Music',\n",
    "    line_color='rgba(54, 162, 235, 0.8)',\n",
    "    fillcolor='rgba(54, 162, 235, 0.3)'\n",
    "))\n",
    "fig.update_layout(\n",
    "    polar=dict(\n",
    "        radialaxis=dict(\n",
    "            visible=True,\n",
    "            range=[0, 1]\n",
    "        )\n",
    "    ),\n",
    "    showlegend=True,\n",
    "    title='Your Music vs Global Music',\n",
    "    template='plotly_white'\n",
    ")\n",
    "# Show the radar chart\n",
    "fig.show()\n",
    "\n"
   ]
  },
  {
   "cell_type": "markdown",
   "id": "0bb1630d",
   "metadata": {},
   "source": [
    "# Phase 2: Exploration with Real Data\n"
   ]
  },
  {
   "cell_type": "code",
   "execution_count": 1,
   "id": "b6bdc770",
   "metadata": {},
   "outputs": [],
   "source": [
    "#Import necessary libraries\n",
    "import os\n",
    "import shutil\n",
    "import pandas as pd\n",
    "import numpy as np\n",
    "import matplotlib.pyplot as plt\n",
    "import seaborn as sns\n",
    "import warnings\n",
    "warnings.filterwarnings('ignore')"
   ]
  },
  {
   "cell_type": "code",
   "execution_count": null,
   "id": "c966b5c2",
   "metadata": {},
   "outputs": [
    {
     "name": "stdout",
     "output_type": "stream",
     "text": [
      "Error: Source file not found at /Users/mai-annie/Downloads/kaggle.json\n",
      "Please check if the file path is correct and the file exists.\n"
     ]
    }
   ],
   "source": [
    "\n",
    "#Download Spotify dataset from Kaggle\n",
    "source = r\"/Users/mai-annie/Downloads/kaggle.json\"\n",
    "destination = os.path.join(os.path.expanduser(\"~\"), \".kaggle\", \"kaggle.json\")\n",
    "\n",
    "#Check if source file exists before attempting to move it\n",
    "if os.path.exists(source):\n",
    "    #Create .kaggle folder if it doesn't exist\n",
    "    os.makedirs(os.path.dirname(destination), exist_ok=True)\n",
    "\n",
    "    #Move the kaggle.json file to the .kaggle folder\n",
    "    shutil.move(source, destination)\n",
    "    print(\"Kaggle credentials set up successfully.\")\n",
    "else:\n",
    "    print(f\"Error: Source file not found at {source}\")\n",
    "    print(\"Please check if the file path is correct and the file exists.\")"
   ]
  },
  {
   "cell_type": "code",
   "execution_count": 7,
   "id": "7c116916",
   "metadata": {},
   "outputs": [
    {
     "name": "stdout",
     "output_type": "stream",
     "text": [
      "Dataset URL: https://www.kaggle.com/datasets/maharshipandya/-spotify-tracks-dataset\n",
      "License(s): ODbL-1.0\n",
      "-spotify-tracks-dataset.zip: Skipping, found more recently modified local copy (use --force to force download)\n"
     ]
    }
   ],
   "source": [
    "!kaggle datasets download -d maharshipandya/-spotify-tracks-dataset"
   ]
  },
  {
   "cell_type": "code",
   "execution_count": 8,
   "id": "9faa750b-6a09-4de4-92ef-e3b685bb45c7",
   "metadata": {},
   "outputs": [],
   "source": [
    "import zipfile\n",
    "with zipfile.ZipFile(\"-spotify-tracks-dataset.zip\", \"r\") as zip_ref:\n",
    "    zip_ref.extractall(\"-spotify-tracks-dataset\")"
   ]
  },
  {
   "cell_type": "code",
   "execution_count": 9,
   "id": "ae8903c1-e0c2-478b-bf52-ff369cd55f74",
   "metadata": {},
   "outputs": [
    {
     "name": "stdout",
     "output_type": "stream",
     "text": [
      "['dataset.csv']\n"
     ]
    }
   ],
   "source": [
    "print(os.listdir(\"-spotify-tracks-dataset\"))"
   ]
  },
  {
   "cell_type": "code",
   "execution_count": 19,
   "id": "7b683392-78c0-418b-8622-320d853ba7c1",
   "metadata": {},
   "outputs": [
    {
     "data": {
      "text/html": [
       "<div>\n",
       "<style scoped>\n",
       "    .dataframe tbody tr th:only-of-type {\n",
       "        vertical-align: middle;\n",
       "    }\n",
       "\n",
       "    .dataframe tbody tr th {\n",
       "        vertical-align: top;\n",
       "    }\n",
       "\n",
       "    .dataframe thead th {\n",
       "        text-align: right;\n",
       "    }\n",
       "</style>\n",
       "<table border=\"1\" class=\"dataframe\">\n",
       "  <thead>\n",
       "    <tr style=\"text-align: right;\">\n",
       "      <th></th>\n",
       "      <th>track_id</th>\n",
       "      <th>artists</th>\n",
       "      <th>album_name</th>\n",
       "      <th>track_name</th>\n",
       "      <th>popularity</th>\n",
       "      <th>duration_ms</th>\n",
       "      <th>explicit</th>\n",
       "      <th>danceability</th>\n",
       "      <th>energy</th>\n",
       "      <th>key</th>\n",
       "      <th>loudness</th>\n",
       "      <th>mode</th>\n",
       "      <th>speechiness</th>\n",
       "      <th>acousticness</th>\n",
       "      <th>instrumentalness</th>\n",
       "      <th>liveness</th>\n",
       "      <th>valence</th>\n",
       "      <th>tempo</th>\n",
       "      <th>time_signature</th>\n",
       "      <th>track_genre</th>\n",
       "    </tr>\n",
       "  </thead>\n",
       "  <tbody>\n",
       "    <tr>\n",
       "      <th>0</th>\n",
       "      <td>5SuOikwiRyPMVoIQDJUgSV</td>\n",
       "      <td>Gen Hoshino</td>\n",
       "      <td>Comedy</td>\n",
       "      <td>Comedy</td>\n",
       "      <td>73</td>\n",
       "      <td>230666</td>\n",
       "      <td>False</td>\n",
       "      <td>0.676</td>\n",
       "      <td>0.4610</td>\n",
       "      <td>1</td>\n",
       "      <td>-6.746</td>\n",
       "      <td>0</td>\n",
       "      <td>0.1430</td>\n",
       "      <td>0.0322</td>\n",
       "      <td>0.000001</td>\n",
       "      <td>0.3580</td>\n",
       "      <td>0.715</td>\n",
       "      <td>87.917</td>\n",
       "      <td>4</td>\n",
       "      <td>acoustic</td>\n",
       "    </tr>\n",
       "    <tr>\n",
       "      <th>1</th>\n",
       "      <td>4qPNDBW1i3p13qLCt0Ki3A</td>\n",
       "      <td>Ben Woodward</td>\n",
       "      <td>Ghost (Acoustic)</td>\n",
       "      <td>Ghost - Acoustic</td>\n",
       "      <td>55</td>\n",
       "      <td>149610</td>\n",
       "      <td>False</td>\n",
       "      <td>0.420</td>\n",
       "      <td>0.1660</td>\n",
       "      <td>1</td>\n",
       "      <td>-17.235</td>\n",
       "      <td>1</td>\n",
       "      <td>0.0763</td>\n",
       "      <td>0.9240</td>\n",
       "      <td>0.000006</td>\n",
       "      <td>0.1010</td>\n",
       "      <td>0.267</td>\n",
       "      <td>77.489</td>\n",
       "      <td>4</td>\n",
       "      <td>acoustic</td>\n",
       "    </tr>\n",
       "    <tr>\n",
       "      <th>2</th>\n",
       "      <td>1iJBSr7s7jYXzM8EGcbK5b</td>\n",
       "      <td>Ingrid Michaelson;ZAYN</td>\n",
       "      <td>To Begin Again</td>\n",
       "      <td>To Begin Again</td>\n",
       "      <td>57</td>\n",
       "      <td>210826</td>\n",
       "      <td>False</td>\n",
       "      <td>0.438</td>\n",
       "      <td>0.3590</td>\n",
       "      <td>0</td>\n",
       "      <td>-9.734</td>\n",
       "      <td>1</td>\n",
       "      <td>0.0557</td>\n",
       "      <td>0.2100</td>\n",
       "      <td>0.000000</td>\n",
       "      <td>0.1170</td>\n",
       "      <td>0.120</td>\n",
       "      <td>76.332</td>\n",
       "      <td>4</td>\n",
       "      <td>acoustic</td>\n",
       "    </tr>\n",
       "    <tr>\n",
       "      <th>3</th>\n",
       "      <td>6lfxq3CG4xtTiEg7opyCyx</td>\n",
       "      <td>Kina Grannis</td>\n",
       "      <td>Crazy Rich Asians (Original Motion Picture Sou...</td>\n",
       "      <td>Can't Help Falling In Love</td>\n",
       "      <td>71</td>\n",
       "      <td>201933</td>\n",
       "      <td>False</td>\n",
       "      <td>0.266</td>\n",
       "      <td>0.0596</td>\n",
       "      <td>0</td>\n",
       "      <td>-18.515</td>\n",
       "      <td>1</td>\n",
       "      <td>0.0363</td>\n",
       "      <td>0.9050</td>\n",
       "      <td>0.000071</td>\n",
       "      <td>0.1320</td>\n",
       "      <td>0.143</td>\n",
       "      <td>181.740</td>\n",
       "      <td>3</td>\n",
       "      <td>acoustic</td>\n",
       "    </tr>\n",
       "    <tr>\n",
       "      <th>4</th>\n",
       "      <td>5vjLSffimiIP26QG5WcN2K</td>\n",
       "      <td>Chord Overstreet</td>\n",
       "      <td>Hold On</td>\n",
       "      <td>Hold On</td>\n",
       "      <td>82</td>\n",
       "      <td>198853</td>\n",
       "      <td>False</td>\n",
       "      <td>0.618</td>\n",
       "      <td>0.4430</td>\n",
       "      <td>2</td>\n",
       "      <td>-9.681</td>\n",
       "      <td>1</td>\n",
       "      <td>0.0526</td>\n",
       "      <td>0.4690</td>\n",
       "      <td>0.000000</td>\n",
       "      <td>0.0829</td>\n",
       "      <td>0.167</td>\n",
       "      <td>119.949</td>\n",
       "      <td>4</td>\n",
       "      <td>acoustic</td>\n",
       "    </tr>\n",
       "  </tbody>\n",
       "</table>\n",
       "</div>"
      ],
      "text/plain": [
       "                 track_id                 artists  \\\n",
       "0  5SuOikwiRyPMVoIQDJUgSV             Gen Hoshino   \n",
       "1  4qPNDBW1i3p13qLCt0Ki3A            Ben Woodward   \n",
       "2  1iJBSr7s7jYXzM8EGcbK5b  Ingrid Michaelson;ZAYN   \n",
       "3  6lfxq3CG4xtTiEg7opyCyx            Kina Grannis   \n",
       "4  5vjLSffimiIP26QG5WcN2K        Chord Overstreet   \n",
       "\n",
       "                                          album_name  \\\n",
       "0                                             Comedy   \n",
       "1                                   Ghost (Acoustic)   \n",
       "2                                     To Begin Again   \n",
       "3  Crazy Rich Asians (Original Motion Picture Sou...   \n",
       "4                                            Hold On   \n",
       "\n",
       "                   track_name  popularity  duration_ms  explicit  \\\n",
       "0                      Comedy          73       230666     False   \n",
       "1            Ghost - Acoustic          55       149610     False   \n",
       "2              To Begin Again          57       210826     False   \n",
       "3  Can't Help Falling In Love          71       201933     False   \n",
       "4                     Hold On          82       198853     False   \n",
       "\n",
       "   danceability  energy  key  loudness  mode  speechiness  acousticness  \\\n",
       "0         0.676  0.4610    1    -6.746     0       0.1430        0.0322   \n",
       "1         0.420  0.1660    1   -17.235     1       0.0763        0.9240   \n",
       "2         0.438  0.3590    0    -9.734     1       0.0557        0.2100   \n",
       "3         0.266  0.0596    0   -18.515     1       0.0363        0.9050   \n",
       "4         0.618  0.4430    2    -9.681     1       0.0526        0.4690   \n",
       "\n",
       "   instrumentalness  liveness  valence    tempo  time_signature track_genre  \n",
       "0          0.000001    0.3580    0.715   87.917               4    acoustic  \n",
       "1          0.000006    0.1010    0.267   77.489               4    acoustic  \n",
       "2          0.000000    0.1170    0.120   76.332               4    acoustic  \n",
       "3          0.000071    0.1320    0.143  181.740               3    acoustic  \n",
       "4          0.000000    0.0829    0.167  119.949               4    acoustic  "
      ]
     },
     "execution_count": 19,
     "metadata": {},
     "output_type": "execute_result"
    }
   ],
   "source": [
    "#Read the Spotify dataset\n",
    "df = pd.read_csv(\"-spotify-tracks-dataset/dataset.csv\", index_col=0)\n",
    "df.head()"
   ]
  },
  {
   "cell_type": "code",
   "execution_count": 8,
   "id": "278cc804-dbac-4c38-9b49-f5facd6b18a3",
   "metadata": {},
   "outputs": [
    {
     "data": {
      "text/html": [
       "<div>\n",
       "<style scoped>\n",
       "    .dataframe tbody tr th:only-of-type {\n",
       "        vertical-align: middle;\n",
       "    }\n",
       "\n",
       "    .dataframe tbody tr th {\n",
       "        vertical-align: top;\n",
       "    }\n",
       "\n",
       "    .dataframe thead th {\n",
       "        text-align: right;\n",
       "    }\n",
       "</style>\n",
       "<table border=\"1\" class=\"dataframe\">\n",
       "  <thead>\n",
       "    <tr style=\"text-align: right;\">\n",
       "      <th></th>\n",
       "      <th>Unnamed: 0</th>\n",
       "      <th>popularity</th>\n",
       "      <th>duration_ms</th>\n",
       "      <th>danceability</th>\n",
       "      <th>energy</th>\n",
       "      <th>key</th>\n",
       "      <th>loudness</th>\n",
       "      <th>mode</th>\n",
       "      <th>speechiness</th>\n",
       "      <th>acousticness</th>\n",
       "      <th>instrumentalness</th>\n",
       "      <th>liveness</th>\n",
       "      <th>valence</th>\n",
       "      <th>tempo</th>\n",
       "      <th>time_signature</th>\n",
       "    </tr>\n",
       "  </thead>\n",
       "  <tbody>\n",
       "    <tr>\n",
       "      <th>count</th>\n",
       "      <td>114000.000000</td>\n",
       "      <td>114000.000000</td>\n",
       "      <td>1.140000e+05</td>\n",
       "      <td>114000.000000</td>\n",
       "      <td>114000.000000</td>\n",
       "      <td>114000.000000</td>\n",
       "      <td>114000.000000</td>\n",
       "      <td>114000.000000</td>\n",
       "      <td>114000.000000</td>\n",
       "      <td>114000.000000</td>\n",
       "      <td>114000.000000</td>\n",
       "      <td>114000.000000</td>\n",
       "      <td>114000.000000</td>\n",
       "      <td>114000.000000</td>\n",
       "      <td>114000.000000</td>\n",
       "    </tr>\n",
       "    <tr>\n",
       "      <th>mean</th>\n",
       "      <td>56999.500000</td>\n",
       "      <td>33.238535</td>\n",
       "      <td>2.280292e+05</td>\n",
       "      <td>0.566800</td>\n",
       "      <td>0.641383</td>\n",
       "      <td>5.309140</td>\n",
       "      <td>-8.258960</td>\n",
       "      <td>0.637553</td>\n",
       "      <td>0.084652</td>\n",
       "      <td>0.314910</td>\n",
       "      <td>0.156050</td>\n",
       "      <td>0.213553</td>\n",
       "      <td>0.474068</td>\n",
       "      <td>122.147837</td>\n",
       "      <td>3.904035</td>\n",
       "    </tr>\n",
       "    <tr>\n",
       "      <th>std</th>\n",
       "      <td>32909.109681</td>\n",
       "      <td>22.305078</td>\n",
       "      <td>1.072977e+05</td>\n",
       "      <td>0.173542</td>\n",
       "      <td>0.251529</td>\n",
       "      <td>3.559987</td>\n",
       "      <td>5.029337</td>\n",
       "      <td>0.480709</td>\n",
       "      <td>0.105732</td>\n",
       "      <td>0.332523</td>\n",
       "      <td>0.309555</td>\n",
       "      <td>0.190378</td>\n",
       "      <td>0.259261</td>\n",
       "      <td>29.978197</td>\n",
       "      <td>0.432621</td>\n",
       "    </tr>\n",
       "    <tr>\n",
       "      <th>min</th>\n",
       "      <td>0.000000</td>\n",
       "      <td>0.000000</td>\n",
       "      <td>0.000000e+00</td>\n",
       "      <td>0.000000</td>\n",
       "      <td>0.000000</td>\n",
       "      <td>0.000000</td>\n",
       "      <td>-49.531000</td>\n",
       "      <td>0.000000</td>\n",
       "      <td>0.000000</td>\n",
       "      <td>0.000000</td>\n",
       "      <td>0.000000</td>\n",
       "      <td>0.000000</td>\n",
       "      <td>0.000000</td>\n",
       "      <td>0.000000</td>\n",
       "      <td>0.000000</td>\n",
       "    </tr>\n",
       "    <tr>\n",
       "      <th>25%</th>\n",
       "      <td>28499.750000</td>\n",
       "      <td>17.000000</td>\n",
       "      <td>1.740660e+05</td>\n",
       "      <td>0.456000</td>\n",
       "      <td>0.472000</td>\n",
       "      <td>2.000000</td>\n",
       "      <td>-10.013000</td>\n",
       "      <td>0.000000</td>\n",
       "      <td>0.035900</td>\n",
       "      <td>0.016900</td>\n",
       "      <td>0.000000</td>\n",
       "      <td>0.098000</td>\n",
       "      <td>0.260000</td>\n",
       "      <td>99.218750</td>\n",
       "      <td>4.000000</td>\n",
       "    </tr>\n",
       "    <tr>\n",
       "      <th>50%</th>\n",
       "      <td>56999.500000</td>\n",
       "      <td>35.000000</td>\n",
       "      <td>2.129060e+05</td>\n",
       "      <td>0.580000</td>\n",
       "      <td>0.685000</td>\n",
       "      <td>5.000000</td>\n",
       "      <td>-7.004000</td>\n",
       "      <td>1.000000</td>\n",
       "      <td>0.048900</td>\n",
       "      <td>0.169000</td>\n",
       "      <td>0.000042</td>\n",
       "      <td>0.132000</td>\n",
       "      <td>0.464000</td>\n",
       "      <td>122.017000</td>\n",
       "      <td>4.000000</td>\n",
       "    </tr>\n",
       "    <tr>\n",
       "      <th>75%</th>\n",
       "      <td>85499.250000</td>\n",
       "      <td>50.000000</td>\n",
       "      <td>2.615060e+05</td>\n",
       "      <td>0.695000</td>\n",
       "      <td>0.854000</td>\n",
       "      <td>8.000000</td>\n",
       "      <td>-5.003000</td>\n",
       "      <td>1.000000</td>\n",
       "      <td>0.084500</td>\n",
       "      <td>0.598000</td>\n",
       "      <td>0.049000</td>\n",
       "      <td>0.273000</td>\n",
       "      <td>0.683000</td>\n",
       "      <td>140.071000</td>\n",
       "      <td>4.000000</td>\n",
       "    </tr>\n",
       "    <tr>\n",
       "      <th>max</th>\n",
       "      <td>113999.000000</td>\n",
       "      <td>100.000000</td>\n",
       "      <td>5.237295e+06</td>\n",
       "      <td>0.985000</td>\n",
       "      <td>1.000000</td>\n",
       "      <td>11.000000</td>\n",
       "      <td>4.532000</td>\n",
       "      <td>1.000000</td>\n",
       "      <td>0.965000</td>\n",
       "      <td>0.996000</td>\n",
       "      <td>1.000000</td>\n",
       "      <td>1.000000</td>\n",
       "      <td>0.995000</td>\n",
       "      <td>243.372000</td>\n",
       "      <td>5.000000</td>\n",
       "    </tr>\n",
       "  </tbody>\n",
       "</table>\n",
       "</div>"
      ],
      "text/plain": [
       "          Unnamed: 0     popularity   duration_ms   danceability  \\\n",
       "count  114000.000000  114000.000000  1.140000e+05  114000.000000   \n",
       "mean    56999.500000      33.238535  2.280292e+05       0.566800   \n",
       "std     32909.109681      22.305078  1.072977e+05       0.173542   \n",
       "min         0.000000       0.000000  0.000000e+00       0.000000   \n",
       "25%     28499.750000      17.000000  1.740660e+05       0.456000   \n",
       "50%     56999.500000      35.000000  2.129060e+05       0.580000   \n",
       "75%     85499.250000      50.000000  2.615060e+05       0.695000   \n",
       "max    113999.000000     100.000000  5.237295e+06       0.985000   \n",
       "\n",
       "              energy            key       loudness           mode  \\\n",
       "count  114000.000000  114000.000000  114000.000000  114000.000000   \n",
       "mean        0.641383       5.309140      -8.258960       0.637553   \n",
       "std         0.251529       3.559987       5.029337       0.480709   \n",
       "min         0.000000       0.000000     -49.531000       0.000000   \n",
       "25%         0.472000       2.000000     -10.013000       0.000000   \n",
       "50%         0.685000       5.000000      -7.004000       1.000000   \n",
       "75%         0.854000       8.000000      -5.003000       1.000000   \n",
       "max         1.000000      11.000000       4.532000       1.000000   \n",
       "\n",
       "         speechiness   acousticness  instrumentalness       liveness  \\\n",
       "count  114000.000000  114000.000000     114000.000000  114000.000000   \n",
       "mean        0.084652       0.314910          0.156050       0.213553   \n",
       "std         0.105732       0.332523          0.309555       0.190378   \n",
       "min         0.000000       0.000000          0.000000       0.000000   \n",
       "25%         0.035900       0.016900          0.000000       0.098000   \n",
       "50%         0.048900       0.169000          0.000042       0.132000   \n",
       "75%         0.084500       0.598000          0.049000       0.273000   \n",
       "max         0.965000       0.996000          1.000000       1.000000   \n",
       "\n",
       "             valence          tempo  time_signature  \n",
       "count  114000.000000  114000.000000   114000.000000  \n",
       "mean        0.474068     122.147837        3.904035  \n",
       "std         0.259261      29.978197        0.432621  \n",
       "min         0.000000       0.000000        0.000000  \n",
       "25%         0.260000      99.218750        4.000000  \n",
       "50%         0.464000     122.017000        4.000000  \n",
       "75%         0.683000     140.071000        4.000000  \n",
       "max         0.995000     243.372000        5.000000  "
      ]
     },
     "execution_count": 8,
     "metadata": {},
     "output_type": "execute_result"
    }
   ],
   "source": [
    "df.describe()\n"
   ]
  },
  {
   "cell_type": "code",
   "execution_count": 9,
   "id": "ee11a754",
   "metadata": {},
   "outputs": [
    {
     "data": {
      "text/html": [
       "<div>\n",
       "<style scoped>\n",
       "    .dataframe tbody tr th:only-of-type {\n",
       "        vertical-align: middle;\n",
       "    }\n",
       "\n",
       "    .dataframe tbody tr th {\n",
       "        vertical-align: top;\n",
       "    }\n",
       "\n",
       "    .dataframe thead th {\n",
       "        text-align: right;\n",
       "    }\n",
       "</style>\n",
       "<table border=\"1\" class=\"dataframe\">\n",
       "  <thead>\n",
       "    <tr style=\"text-align: right;\">\n",
       "      <th></th>\n",
       "      <th>track_id</th>\n",
       "      <th>artists</th>\n",
       "      <th>album_name</th>\n",
       "      <th>track_name</th>\n",
       "      <th>track_genre</th>\n",
       "    </tr>\n",
       "  </thead>\n",
       "  <tbody>\n",
       "    <tr>\n",
       "      <th>count</th>\n",
       "      <td>114000</td>\n",
       "      <td>113999</td>\n",
       "      <td>113999</td>\n",
       "      <td>113999</td>\n",
       "      <td>114000</td>\n",
       "    </tr>\n",
       "    <tr>\n",
       "      <th>unique</th>\n",
       "      <td>89741</td>\n",
       "      <td>31437</td>\n",
       "      <td>46589</td>\n",
       "      <td>73608</td>\n",
       "      <td>114</td>\n",
       "    </tr>\n",
       "    <tr>\n",
       "      <th>top</th>\n",
       "      <td>6S3JlDAGk3uu3NtZbPnuhS</td>\n",
       "      <td>The Beatles</td>\n",
       "      <td>Alternative Christmas 2022</td>\n",
       "      <td>Run Rudolph Run</td>\n",
       "      <td>acoustic</td>\n",
       "    </tr>\n",
       "    <tr>\n",
       "      <th>freq</th>\n",
       "      <td>9</td>\n",
       "      <td>279</td>\n",
       "      <td>195</td>\n",
       "      <td>151</td>\n",
       "      <td>1000</td>\n",
       "    </tr>\n",
       "  </tbody>\n",
       "</table>\n",
       "</div>"
      ],
      "text/plain": [
       "                      track_id      artists                  album_name  \\\n",
       "count                   114000       113999                      113999   \n",
       "unique                   89741        31437                       46589   \n",
       "top     6S3JlDAGk3uu3NtZbPnuhS  The Beatles  Alternative Christmas 2022   \n",
       "freq                         9          279                         195   \n",
       "\n",
       "             track_name track_genre  \n",
       "count            113999      114000  \n",
       "unique            73608         114  \n",
       "top     Run Rudolph Run    acoustic  \n",
       "freq                151        1000  "
      ]
     },
     "execution_count": 9,
     "metadata": {},
     "output_type": "execute_result"
    }
   ],
   "source": [
    "df.describe(include='object')"
   ]
  },
  {
   "cell_type": "code",
   "execution_count": 11,
   "id": "59bc0cdf",
   "metadata": {},
   "outputs": [
    {
     "name": "stdout",
     "output_type": "stream",
     "text": [
      "Columns: ['Unnamed: 0', 'track_id', 'artists', 'album_name', 'track_name', 'popularity', 'duration_ms', 'explicit', 'danceability', 'energy', 'key', 'loudness', 'mode', 'speechiness', 'acousticness', 'instrumentalness', 'liveness', 'valence', 'tempo', 'time_signature', 'track_genre']\n",
      "Unnamed: 0            int64\n",
      "track_id             object\n",
      "artists              object\n",
      "album_name           object\n",
      "track_name           object\n",
      "popularity            int64\n",
      "duration_ms           int64\n",
      "explicit               bool\n",
      "danceability        float64\n",
      "energy              float64\n",
      "key                   int64\n",
      "loudness            float64\n",
      "mode                  int64\n",
      "speechiness         float64\n",
      "acousticness        float64\n",
      "instrumentalness    float64\n",
      "liveness            float64\n",
      "valence             float64\n",
      "tempo               float64\n",
      "time_signature        int64\n",
      "track_genre          object\n",
      "dtype: object\n"
     ]
    }
   ],
   "source": [
    "#Check all column names\n",
    "print(\"Columns:\", df.columns.tolist())\n",
    "\n",
    "#Check data types\n",
    "print(df.dtypes)"
   ]
  },
  {
   "cell_type": "code",
   "execution_count": 20,
   "id": "1dd79e04",
   "metadata": {},
   "outputs": [
    {
     "name": "stdout",
     "output_type": "stream",
     "text": [
      "                  Missing_Count  Missing_Percent\n",
      "album_name                    1         0.000877\n",
      "track_name                    1         0.000877\n",
      "artists                       1         0.000877\n",
      "track_id                      0         0.000000\n",
      "speechiness                   0         0.000000\n",
      "time_signature                0         0.000000\n",
      "tempo                         0         0.000000\n",
      "valence                       0         0.000000\n",
      "liveness                      0         0.000000\n",
      "instrumentalness              0         0.000000\n",
      "acousticness                  0         0.000000\n",
      "loudness                      0         0.000000\n",
      "mode                          0         0.000000\n",
      "key                           0         0.000000\n",
      "energy                        0         0.000000\n",
      "danceability                  0         0.000000\n",
      "explicit                      0         0.000000\n",
      "duration_ms                   0         0.000000\n",
      "popularity                    0         0.000000\n",
      "track_genre                   0         0.000000\n"
     ]
    }
   ],
   "source": [
    "# Missing value counts\n",
    "missing_data = df.isnull().sum()\n",
    "missing_percent = (missing_data / len(df)) * 100\n",
    "\n",
    "missing_summary = pd.DataFrame({\n",
    "    'Missing_Count': missing_data,\n",
    "    'Missing_Percent': missing_percent\n",
    "}).sort_values('Missing_Percent', ascending=False)\n",
    "\n",
    "print(missing_summary)\n"
   ]
  },
  {
   "cell_type": "code",
   "execution_count": 22,
   "id": "ffcb8ab9",
   "metadata": {},
   "outputs": [
    {
     "name": "stdout",
     "output_type": "stream",
     "text": [
      "Duplicate columns: []\n",
      "Duplicate rows: 450\n"
     ]
    }
   ],
   "source": [
    "#Check for duplicate column names\n",
    "print(\"Duplicate columns:\", df.columns[df.columns.duplicated()].tolist())\n",
    "\n",
    "#Check for duplicate rows\n",
    "print(f\"Duplicate rows: {df.duplicated().sum()}\")\n",
    "\n",
    "#Check for duplicate songs\n",
    "if 'artist' in df.columns and 'track_name' in df.columns:\n",
    "    duplicate_songs = df.duplicated(subset=['artist', 'track_name']).sum()\n",
    "    print(f\"Duplicate songs: {duplicate_songs}\")"
   ]
  },
  {
   "cell_type": "code",
   "execution_count": 23,
   "id": "f8df1c1d",
   "metadata": {},
   "outputs": [
    {
     "name": "stdout",
     "output_type": "stream",
     "text": [
      "energy: 0 values out of 0-1 range\n",
      "danceability: 0 values out of 0-1 range\n",
      "valence: 0 values out of 0-1 range\n",
      "acousticness: 0 values out of 0-1 range\n",
      "instrumentalness: 0 values out of 0-1 range\n",
      "liveness: 0 values out of 0-1 range\n",
      "speechiness: 0 values out of 0-1 range\n"
     ]
    }
   ],
   "source": [
    "#Check if audio features are between 0-1\n",
    "audio_features = ['energy', 'danceability', 'valence', 'acousticness', \n",
    "                  'instrumentalness', 'liveness', 'speechiness']\n",
    "\n",
    "for feature in audio_features:\n",
    "    if feature in df.columns:\n",
    "        out_of_range = ((df[feature] < 0) | (df[feature] > 1)).sum()\n",
    "        print(f\"{feature}: {out_of_range} values out of 0-1 range\")"
   ]
  },
  {
   "cell_type": "code",
   "execution_count": null,
   "id": "569553c4",
   "metadata": {},
   "outputs": [],
   "source": []
  }
 ],
 "metadata": {
  "kernelspec": {
   "display_name": ".venv",
   "language": "python",
   "name": "python3"
  },
  "language_info": {
   "codemirror_mode": {
    "name": "ipython",
    "version": 3
   },
   "file_extension": ".py",
   "mimetype": "text/x-python",
   "name": "python",
   "nbconvert_exporter": "python",
   "pygments_lexer": "ipython3",
   "version": "3.12.7"
  }
 },
 "nbformat": 4,
 "nbformat_minor": 5
}
